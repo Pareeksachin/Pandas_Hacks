{
 "cells": [
  {
   "cell_type": "markdown",
   "id": "f846f225",
   "metadata": {},
   "source": [
    "# CSV v/s feather v/s Pickle v/s Parquate "
   ]
  },
  {
   "cell_type": "code",
   "execution_count": 1,
   "id": "562b5030",
   "metadata": {},
   "outputs": [],
   "source": [
    "import pandas as pd\n",
    "from pyarrow import feather,parquet"
   ]
  },
  {
   "cell_type": "code",
   "execution_count": 2,
   "id": "aa6e7770",
   "metadata": {},
   "outputs": [],
   "source": [
    "#!pip install pyarrow \n",
    "#!pip install fastparquet"
   ]
  },
  {
   "cell_type": "markdown",
   "id": "cb0993be",
   "metadata": {},
   "source": [
    "# CSV Format"
   ]
  },
  {
   "cell_type": "code",
   "execution_count": 3,
   "id": "f9078c36",
   "metadata": {},
   "outputs": [],
   "source": [
    "## Read CSV \n",
    "## Write CSV\n",
    "## occupied space"
   ]
  },
  {
   "cell_type": "code",
   "execution_count": 4,
   "id": "bf9e4b51",
   "metadata": {},
   "outputs": [
    {
     "name": "stdout",
     "output_type": "stream",
     "text": [
      "90.3 ms ± 25.3 ms per loop (mean ± std. dev. of 7 runs, 10 loops each)\n"
     ]
    }
   ],
   "source": [
    "%%timeit\n",
    "## Read CSV\n",
    "df = pd.read_csv('diamonds.csv')\n",
    "### Read csv time : "
   ]
  },
  {
   "cell_type": "code",
   "execution_count": 5,
   "id": "571f9cdd",
   "metadata": {},
   "outputs": [
    {
     "data": {
      "text/html": [
       "<div>\n",
       "<style scoped>\n",
       "    .dataframe tbody tr th:only-of-type {\n",
       "        vertical-align: middle;\n",
       "    }\n",
       "\n",
       "    .dataframe tbody tr th {\n",
       "        vertical-align: top;\n",
       "    }\n",
       "\n",
       "    .dataframe thead th {\n",
       "        text-align: right;\n",
       "    }\n",
       "</style>\n",
       "<table border=\"1\" class=\"dataframe\">\n",
       "  <thead>\n",
       "    <tr style=\"text-align: right;\">\n",
       "      <th></th>\n",
       "      <th>carat</th>\n",
       "      <th>cut</th>\n",
       "      <th>color</th>\n",
       "      <th>clarity</th>\n",
       "      <th>depth</th>\n",
       "      <th>table</th>\n",
       "      <th>price</th>\n",
       "      <th>x</th>\n",
       "      <th>y</th>\n",
       "      <th>z</th>\n",
       "    </tr>\n",
       "  </thead>\n",
       "  <tbody>\n",
       "    <tr>\n",
       "      <th>0</th>\n",
       "      <td>0.23</td>\n",
       "      <td>Ideal</td>\n",
       "      <td>E</td>\n",
       "      <td>SI2</td>\n",
       "      <td>61.5</td>\n",
       "      <td>55.0</td>\n",
       "      <td>326</td>\n",
       "      <td>3.95</td>\n",
       "      <td>3.98</td>\n",
       "      <td>2.43</td>\n",
       "    </tr>\n",
       "    <tr>\n",
       "      <th>1</th>\n",
       "      <td>0.21</td>\n",
       "      <td>Premium</td>\n",
       "      <td>E</td>\n",
       "      <td>SI1</td>\n",
       "      <td>59.8</td>\n",
       "      <td>61.0</td>\n",
       "      <td>326</td>\n",
       "      <td>3.89</td>\n",
       "      <td>3.84</td>\n",
       "      <td>2.31</td>\n",
       "    </tr>\n",
       "    <tr>\n",
       "      <th>2</th>\n",
       "      <td>0.23</td>\n",
       "      <td>Good</td>\n",
       "      <td>E</td>\n",
       "      <td>VS1</td>\n",
       "      <td>56.9</td>\n",
       "      <td>65.0</td>\n",
       "      <td>327</td>\n",
       "      <td>4.05</td>\n",
       "      <td>4.07</td>\n",
       "      <td>2.31</td>\n",
       "    </tr>\n",
       "    <tr>\n",
       "      <th>3</th>\n",
       "      <td>0.29</td>\n",
       "      <td>Premium</td>\n",
       "      <td>I</td>\n",
       "      <td>VS2</td>\n",
       "      <td>62.4</td>\n",
       "      <td>58.0</td>\n",
       "      <td>334</td>\n",
       "      <td>4.20</td>\n",
       "      <td>4.23</td>\n",
       "      <td>2.63</td>\n",
       "    </tr>\n",
       "    <tr>\n",
       "      <th>4</th>\n",
       "      <td>0.31</td>\n",
       "      <td>Good</td>\n",
       "      <td>J</td>\n",
       "      <td>SI2</td>\n",
       "      <td>63.3</td>\n",
       "      <td>58.0</td>\n",
       "      <td>335</td>\n",
       "      <td>4.34</td>\n",
       "      <td>4.35</td>\n",
       "      <td>2.75</td>\n",
       "    </tr>\n",
       "    <tr>\n",
       "      <th>...</th>\n",
       "      <td>...</td>\n",
       "      <td>...</td>\n",
       "      <td>...</td>\n",
       "      <td>...</td>\n",
       "      <td>...</td>\n",
       "      <td>...</td>\n",
       "      <td>...</td>\n",
       "      <td>...</td>\n",
       "      <td>...</td>\n",
       "      <td>...</td>\n",
       "    </tr>\n",
       "    <tr>\n",
       "      <th>53935</th>\n",
       "      <td>0.72</td>\n",
       "      <td>Ideal</td>\n",
       "      <td>D</td>\n",
       "      <td>SI1</td>\n",
       "      <td>60.8</td>\n",
       "      <td>57.0</td>\n",
       "      <td>2757</td>\n",
       "      <td>5.75</td>\n",
       "      <td>5.76</td>\n",
       "      <td>3.50</td>\n",
       "    </tr>\n",
       "    <tr>\n",
       "      <th>53936</th>\n",
       "      <td>0.72</td>\n",
       "      <td>Good</td>\n",
       "      <td>D</td>\n",
       "      <td>SI1</td>\n",
       "      <td>63.1</td>\n",
       "      <td>55.0</td>\n",
       "      <td>2757</td>\n",
       "      <td>5.69</td>\n",
       "      <td>5.75</td>\n",
       "      <td>3.61</td>\n",
       "    </tr>\n",
       "    <tr>\n",
       "      <th>53937</th>\n",
       "      <td>0.70</td>\n",
       "      <td>Very Good</td>\n",
       "      <td>D</td>\n",
       "      <td>SI1</td>\n",
       "      <td>62.8</td>\n",
       "      <td>60.0</td>\n",
       "      <td>2757</td>\n",
       "      <td>5.66</td>\n",
       "      <td>5.68</td>\n",
       "      <td>3.56</td>\n",
       "    </tr>\n",
       "    <tr>\n",
       "      <th>53938</th>\n",
       "      <td>0.86</td>\n",
       "      <td>Premium</td>\n",
       "      <td>H</td>\n",
       "      <td>SI2</td>\n",
       "      <td>61.0</td>\n",
       "      <td>58.0</td>\n",
       "      <td>2757</td>\n",
       "      <td>6.15</td>\n",
       "      <td>6.12</td>\n",
       "      <td>3.74</td>\n",
       "    </tr>\n",
       "    <tr>\n",
       "      <th>53939</th>\n",
       "      <td>0.75</td>\n",
       "      <td>Ideal</td>\n",
       "      <td>D</td>\n",
       "      <td>SI2</td>\n",
       "      <td>62.2</td>\n",
       "      <td>55.0</td>\n",
       "      <td>2757</td>\n",
       "      <td>5.83</td>\n",
       "      <td>5.87</td>\n",
       "      <td>3.64</td>\n",
       "    </tr>\n",
       "  </tbody>\n",
       "</table>\n",
       "<p>53940 rows × 10 columns</p>\n",
       "</div>"
      ],
      "text/plain": [
       "       carat        cut color clarity  depth  table  price     x     y     z\n",
       "0       0.23      Ideal     E     SI2   61.5   55.0    326  3.95  3.98  2.43\n",
       "1       0.21    Premium     E     SI1   59.8   61.0    326  3.89  3.84  2.31\n",
       "2       0.23       Good     E     VS1   56.9   65.0    327  4.05  4.07  2.31\n",
       "3       0.29    Premium     I     VS2   62.4   58.0    334  4.20  4.23  2.63\n",
       "4       0.31       Good     J     SI2   63.3   58.0    335  4.34  4.35  2.75\n",
       "...      ...        ...   ...     ...    ...    ...    ...   ...   ...   ...\n",
       "53935   0.72      Ideal     D     SI1   60.8   57.0   2757  5.75  5.76  3.50\n",
       "53936   0.72       Good     D     SI1   63.1   55.0   2757  5.69  5.75  3.61\n",
       "53937   0.70  Very Good     D     SI1   62.8   60.0   2757  5.66  5.68  3.56\n",
       "53938   0.86    Premium     H     SI2   61.0   58.0   2757  6.15  6.12  3.74\n",
       "53939   0.75      Ideal     D     SI2   62.2   55.0   2757  5.83  5.87  3.64\n",
       "\n",
       "[53940 rows x 10 columns]"
      ]
     },
     "execution_count": 5,
     "metadata": {},
     "output_type": "execute_result"
    }
   ],
   "source": [
    "df = pd.read_csv('diamonds.csv')\n",
    "df"
   ]
  },
  {
   "cell_type": "code",
   "execution_count": 6,
   "id": "94550ac4",
   "metadata": {},
   "outputs": [
    {
     "name": "stdout",
     "output_type": "stream",
     "text": [
      "The slowest run took 5.51 times longer than the fastest. This could mean that an intermediate result is being cached.\n",
      "2.34 s ± 1.2 s per loop (mean ± std. dev. of 7 runs, 1 loop each)\n"
     ]
    }
   ],
   "source": [
    "%%timeit\n",
    "## write data to CSV\n",
    "df.to_csv(\"diamonds_test.csv\")"
   ]
  },
  {
   "cell_type": "code",
   "execution_count": 7,
   "id": "67eefe9f",
   "metadata": {},
   "outputs": [
    {
     "name": "stdout",
     "output_type": "stream",
     "text": [
      " Volume in drive C has no label.\n",
      " Volume Serial Number is 78AC-5475\n",
      "\n",
      " Directory of C:\\Users\\Anonymous\\Documents\\Pandas\\Pandas Hacks\n",
      "\n",
      "\n",
      " Directory of C:\\Users\\Anonymous\\Documents\\Pandas\\Pandas Hacks\n",
      "\n",
      "20-07-2023  23:43         2,938,377 diamonds_test.csv\n",
      "               1 File(s)      2,938,377 bytes\n",
      "               0 Dir(s)  93,880,336,384 bytes free\n"
     ]
    }
   ],
   "source": [
    "# occupied space\n",
    "!dir -GFlash diamonds_test.csv"
   ]
  },
  {
   "cell_type": "markdown",
   "id": "5eded872",
   "metadata": {},
   "source": [
    "# Pickle Format"
   ]
  },
  {
   "cell_type": "code",
   "execution_count": 8,
   "id": "40f3bb98",
   "metadata": {},
   "outputs": [],
   "source": [
    "## write to pickle \n",
    "### read_pickle\n",
    "### occupied space"
   ]
  },
  {
   "cell_type": "code",
   "execution_count": 9,
   "id": "ac040d39",
   "metadata": {},
   "outputs": [
    {
     "name": "stdout",
     "output_type": "stream",
     "text": [
      "19.7 ms ± 962 µs per loop (mean ± std. dev. of 7 runs, 100 loops each)\n"
     ]
    }
   ],
   "source": [
    "%%timeit\n",
    "df.to_pickle('diamonds_pickle.pickle')"
   ]
  },
  {
   "cell_type": "code",
   "execution_count": 10,
   "id": "6364b668",
   "metadata": {},
   "outputs": [
    {
     "name": "stdout",
     "output_type": "stream",
     "text": [
      "13.9 ms ± 397 µs per loop (mean ± std. dev. of 7 runs, 100 loops each)\n"
     ]
    }
   ],
   "source": [
    "%%timeit \n",
    "pd.read_pickle('diamonds_pickle.pickle')"
   ]
  },
  {
   "cell_type": "code",
   "execution_count": 11,
   "id": "e1e1c957",
   "metadata": {},
   "outputs": [
    {
     "name": "stdout",
     "output_type": "stream",
     "text": [
      " Volume in drive C has no label.\n",
      " Volume Serial Number is 78AC-5475\n",
      "\n",
      " Directory of C:\\Users\\Anonymous\\Documents\\Pandas\\Pandas Hacks\n",
      "\n",
      "20-07-2023  23:44         3,345,685 diamonds_pickle.pickle\n",
      "               1 File(s)      3,345,685 bytes\n",
      "               0 Dir(s)  93,883,588,608 bytes free\n"
     ]
    }
   ],
   "source": [
    "!dir diamonds_pickle.pickle"
   ]
  },
  {
   "cell_type": "markdown",
   "id": "5b4d985f",
   "metadata": {},
   "source": [
    "# Parquet Format"
   ]
  },
  {
   "cell_type": "code",
   "execution_count": 12,
   "id": "32c98e59",
   "metadata": {},
   "outputs": [],
   "source": [
    "## Read Parquet\n",
    "## Write Parquet\n",
    "## occupied space"
   ]
  },
  {
   "cell_type": "code",
   "execution_count": 13,
   "id": "98d492ea",
   "metadata": {},
   "outputs": [
    {
     "name": "stdout",
     "output_type": "stream",
     "text": [
      "93 ms ± 3.16 ms per loop (mean ± std. dev. of 7 runs, 10 loops each)\n"
     ]
    }
   ],
   "source": [
    "%%timeit\n",
    "## write data to parquet\n",
    "df.to_parquet('diamonds_parquet.parquet')"
   ]
  },
  {
   "cell_type": "code",
   "execution_count": 14,
   "id": "77267911",
   "metadata": {},
   "outputs": [
    {
     "name": "stdout",
     "output_type": "stream",
     "text": [
      "33.1 ms ± 545 µs per loop (mean ± std. dev. of 7 runs, 1 loop each)\n"
     ]
    }
   ],
   "source": [
    "%%timeit\n",
    "## read data from parquet file\n",
    "pd.read_parquet('diamonds_parquet.parquet')"
   ]
  },
  {
   "cell_type": "code",
   "execution_count": 15,
   "id": "7420cfff",
   "metadata": {},
   "outputs": [
    {
     "name": "stdout",
     "output_type": "stream",
     "text": [
      " Volume in drive C has no label.\n",
      " Volume Serial Number is 78AC-5475\n",
      "\n",
      " Directory of C:\\Users\\Anonymous\\Documents\\Pandas\\Pandas Hacks\n",
      "\n",
      "20-07-2023  23:44           519,527 diamonds_parquet.parquet\n",
      "               1 File(s)        519,527 bytes\n",
      "               0 Dir(s)  93,883,523,072 bytes free\n"
     ]
    }
   ],
   "source": [
    "!dir diamonds_parquet.parquet"
   ]
  },
  {
   "cell_type": "markdown",
   "id": "7dd8ad3e",
   "metadata": {},
   "source": [
    "# Feather Format"
   ]
  },
  {
   "cell_type": "code",
   "execution_count": 16,
   "id": "8004d97c",
   "metadata": {},
   "outputs": [],
   "source": [
    "## Read Feather file\n",
    "## Write to Feather file\n",
    "## occupied space"
   ]
  },
  {
   "cell_type": "code",
   "execution_count": 17,
   "id": "1a3aab14",
   "metadata": {},
   "outputs": [
    {
     "name": "stdout",
     "output_type": "stream",
     "text": [
      "36.5 ms ± 2.84 ms per loop (mean ± std. dev. of 7 runs, 10 loops each)\n"
     ]
    }
   ],
   "source": [
    "%%timeit\n",
    "### Write data to feather file\n",
    "df.to_feather('diamonds_feather.feather')"
   ]
  },
  {
   "cell_type": "code",
   "execution_count": 18,
   "id": "472a1251",
   "metadata": {},
   "outputs": [
    {
     "name": "stdout",
     "output_type": "stream",
     "text": [
      "23.1 ms ± 1.06 ms per loop (mean ± std. dev. of 7 runs, 10 loops each)\n"
     ]
    }
   ],
   "source": [
    "%%timeit\n",
    "## reading data \n",
    "pd.read_feather('diamonds_feather.feather')"
   ]
  },
  {
   "cell_type": "code",
   "execution_count": 19,
   "id": "3c31617d",
   "metadata": {},
   "outputs": [
    {
     "name": "stdout",
     "output_type": "stream",
     "text": [
      " Volume in drive C has no label.\n",
      " Volume Serial Number is 78AC-5475\n",
      "\n",
      " Directory of C:\\Users\\Anonymous\\Documents\\Pandas\\Pandas Hacks\n",
      "\n",
      "20-07-2023  23:44           1840298 diamonds_feather.feather\n",
      "               1 File(s)        1840298 bytes\n",
      "               0 Dir(s)     93883523072 bytes free\n"
     ]
    }
   ],
   "source": [
    "## occupied space \n",
    "!dir /-c diamonds_feather.feather"
   ]
  },
  {
   "cell_type": "code",
   "execution_count": null,
   "id": "9eb22230",
   "metadata": {},
   "outputs": [],
   "source": []
  },
  {
   "cell_type": "code",
   "execution_count": null,
   "id": "137847d4",
   "metadata": {},
   "outputs": [],
   "source": []
  }
 ],
 "metadata": {
  "kernelspec": {
   "display_name": "Python 3 (ipykernel)",
   "language": "python",
   "name": "python3"
  },
  "language_info": {
   "codemirror_mode": {
    "name": "ipython",
    "version": 3
   },
   "file_extension": ".py",
   "mimetype": "text/x-python",
   "name": "python",
   "nbconvert_exporter": "python",
   "pygments_lexer": "ipython3",
   "version": "3.11.3"
  }
 },
 "nbformat": 4,
 "nbformat_minor": 5
}
